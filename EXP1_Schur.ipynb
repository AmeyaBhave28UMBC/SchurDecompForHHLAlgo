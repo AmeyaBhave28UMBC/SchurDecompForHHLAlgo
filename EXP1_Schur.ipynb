{
 "cells": [
  {
   "cell_type": "code",
   "execution_count": 1,
   "metadata": {},
   "outputs": [
    {
     "name": "stdout",
     "output_type": "stream",
     "text": [
      "[[ 2.65896708  1.42440458 -1.92933439]\n",
      " [ 0.         -0.32948354 -0.49063704]\n",
      " [ 0.          1.31178921 -0.32948354]]\n",
      "[[ 0.72711591 -0.60156188  0.33079564]\n",
      " [ 0.52839428  0.79801892  0.28976765]\n",
      " [ 0.43829436  0.03590414 -0.89811411]]\n"
     ]
    }
   ],
   "source": [
    "import numpy as np\n",
    "from scipy.linalg import schur,eigvals\n",
    "\n",
    "arr = np.array([[0,2,2],[0,1,2],[1,0,1]])\n",
    "\n",
    "T , Z = schur(arr)\n",
    "\n",
    "print(T)\n",
    "print(Z)"
   ]
  },
  {
   "cell_type": "code",
   "execution_count": 3,
   "metadata": {},
   "outputs": [],
   "source": [
    "import numpy as np\n",
    "from linear_solvers import NumPyLinearSolver, HHL\n",
    "matrix = np.array([ [1, -1/3], [-1/3, 1] ])\n",
    "vector = np.array([1, 0])\n",
    "naive_hhl_solution = HHL().solve(matrix, vector)"
   ]
  },
  {
   "cell_type": "code",
   "execution_count": 4,
   "metadata": {},
   "outputs": [],
   "source": [
    "classical_solution = NumPyLinearSolver().solve(matrix,vector/np.linalg.norm(vector))"
   ]
  },
  {
   "cell_type": "code",
   "execution_count": 5,
   "metadata": {},
   "outputs": [],
   "source": [
    "from linear_solvers.matrices.tridiagonal_toeplitz import TridiagonalToeplitz\n",
    "tridi_matrix = TridiagonalToeplitz(1, 1, -1 / 3)\n",
    "tridi_solution = HHL().solve(tridi_matrix, vector)"
   ]
  },
  {
   "cell_type": "code",
   "execution_count": 6,
   "metadata": {},
   "outputs": [
    {
     "name": "stdout",
     "output_type": "stream",
     "text": [
      "classical state: [1.125 0.375]\n"
     ]
    }
   ],
   "source": [
    "print('classical state:', classical_solution.state)"
   ]
  },
  {
   "cell_type": "code",
   "execution_count": 7,
   "metadata": {},
   "outputs": [
    {
     "name": "stdout",
     "output_type": "stream",
     "text": [
      "naive state:\n",
      "       ┌─────────────┐┌──────┐        ┌─────────┐\n",
      "  q26: ┤ circuit-308 ├┤3     ├────────┤3        ├\n",
      "       └─────────────┘│      │┌──────┐│         │\n",
      "q27_0: ───────────────┤0     ├┤2     ├┤0        ├\n",
      "                      │  QPE ││      ││  QPE_dg │\n",
      "q27_1: ───────────────┤1     ├┤1     ├┤1        ├\n",
      "                      │      ││  1/x ││         │\n",
      "q27_2: ───────────────┤2     ├┤0     ├┤2        ├\n",
      "                      └──────┘│      │└─────────┘\n",
      "  q28: ───────────────────────┤3     ├───────────\n",
      "                              └──────┘           \n",
      "tridiagonal state:\n",
      "       ┌─────────────┐┌──────┐        ┌─────────┐\n",
      "  q48: ┤ circuit-521 ├┤3     ├────────┤3        ├\n",
      "       └─────────────┘│      │┌──────┐│         │\n",
      "q49_0: ───────────────┤0     ├┤2     ├┤0        ├\n",
      "                      │  QPE ││      ││  QPE_dg │\n",
      "q49_1: ───────────────┤1     ├┤1     ├┤1        ├\n",
      "                      │      ││  1/x ││         │\n",
      "q49_2: ───────────────┤2     ├┤0     ├┤2        ├\n",
      "                      └──────┘│      │└─────────┘\n",
      "  q50: ───────────────────────┤3     ├───────────\n",
      "                              └──────┘           \n"
     ]
    }
   ],
   "source": [
    "print('naive state:')\n",
    "print(naive_hhl_solution.state)\n",
    "print('tridiagonal state:')\n",
    "print(tridi_solution.state)"
   ]
  },
  {
   "cell_type": "code",
   "execution_count": 8,
   "metadata": {},
   "outputs": [
    {
     "name": "stdout",
     "output_type": "stream",
     "text": [
      "classical Euclidean norm: 1.1858541225631423\n",
      "naive Euclidean norm: 1.1858541225631387\n",
      "tridiagonal Euclidean norm: 1.1858541225631365\n"
     ]
    }
   ],
   "source": [
    "print('classical Euclidean norm:', classical_solution.euclidean_norm)\n",
    "print('naive Euclidean norm:', naive_hhl_solution.euclidean_norm)\n",
    "print('tridiagonal Euclidean norm:', tridi_solution.euclidean_norm)"
   ]
  },
  {
   "cell_type": "code",
   "execution_count": 44,
   "metadata": {},
   "outputs": [
    {
     "name": "stdout",
     "output_type": "stream",
     "text": [
      "[ 8.94535833e-01+6.14333788e-08j -8.71080331e-02+5.29318705e-09j\n",
      " -5.62078408e-02+3.87800218e-09j ... -1.01218068e-03+2.22895854e-10j\n",
      " -8.34603702e-04-6.15734509e-10j  1.03052404e-04+2.89225442e-10j]\n",
      "[ 0.89560841-8.21241494e-17j -0.08528949+2.23898447e-05j\n",
      " -0.05460554-3.56145516e-05j ...  0.        +0.00000000e+00j\n",
      "  0.        +0.00000000e+00j  0.        +0.00000000e+00j]\n",
      "naive raw solution vector: [ 2.03064984e-10-0.00268474j -1.43681950e-10-0.00016529j]\n",
      "tridi raw solution vector: [ 9.17625829e-06-0.0024201j  -3.10675275e-05-0.00015473j]\n"
     ]
    }
   ],
   "source": [
    "from qiskit.quantum_info import Statevector\n",
    "import numpy as np\n",
    "\n",
    "naive_sv = Statevector(naive_hhl_solution.state).data\n",
    "tridi_sv = Statevector(tridi_solution.state).data\n",
    "\n",
    "# Extract vector components; 10000(bin) == 16 & 10001(bin) == 17\n",
    "naive_full_vector = np.array([naive_sv[16], naive_sv[17] ])\n",
    "tridi_full_vector = np.array([tridi_sv[16], tridi_sv[17] ])\n",
    "\n",
    "print(np.array(naive_sv))\n",
    "print(np.array(tridi_sv))\n",
    "print('naive raw solution vector:', naive_full_vector)\n",
    "print('tridi raw solution vector:', tridi_full_vector)"
   ]
  },
  {
   "cell_type": "code",
   "execution_count": 10,
   "metadata": {},
   "outputs": [
    {
     "name": "stdout",
     "output_type": "stream",
     "text": [
      "full naive solution vector: [1.125 0.375]\n",
      "full tridi solution vector: [1.125 0.375]\n",
      "classical state: [1.125 0.375]\n"
     ]
    }
   ],
   "source": [
    "def get_solution_vector(solution):\n",
    "    \"\"\"Extracts and normalizes simulated state vector\n",
    "    from LinearSolverResult.\"\"\"\n",
    "    solution_vector = Statevector(solution.state).data[16:18].real\n",
    "    norm = solution.euclidean_norm\n",
    "    return norm * solution_vector / np.linalg.norm(solution_vector)\n",
    "\n",
    "print('full naive solution vector:', get_solution_vector(naive_hhl_solution))\n",
    "print('full tridi solution vector:', get_solution_vector(tridi_solution))\n",
    "print('classical state:', classical_solution.state)"
   ]
  },
  {
   "cell_type": "code",
   "execution_count": 11,
   "metadata": {},
   "outputs": [
    {
     "name": "stdout",
     "output_type": "stream",
     "text": [
      "classical euclidean norm: 1.237833351044751\n",
      "naive euclidean norm: 1.2099806231118846\n",
      "tridiagonal euclidean norm: 1.209457721870527\n"
     ]
    }
   ],
   "source": [
    "from scipy.sparse import diags\n",
    "\n",
    "NUM_QUBITS = 2\n",
    "MATRIX_SIZE = 2 ** NUM_QUBITS\n",
    "# entries of the tridiagonal Toeplitz symmetric matrix\n",
    "a = 1\n",
    "b = -1/3\n",
    "\n",
    "matrix = diags([b, a, b],\n",
    "               [-1, 0, 1],\n",
    "               shape=(MATRIX_SIZE, MATRIX_SIZE)).toarray()\n",
    "\n",
    "vector = np.array([1] + [0]*(MATRIX_SIZE - 1))\n",
    "# run the algorithms\n",
    "classical_solution = NumPyLinearSolver().solve(matrix, vector / np.linalg.norm(vector))\n",
    "naive_hhl_solution = HHL().solve(matrix, vector)\n",
    "tridi_matrix = TridiagonalToeplitz(NUM_QUBITS, a, b)\n",
    "tridi_solution = HHL().solve(tridi_matrix, vector)\n",
    "\n",
    "print('classical euclidean norm:', classical_solution.euclidean_norm)\n",
    "print('naive euclidean norm:', naive_hhl_solution.euclidean_norm)\n",
    "print('tridiagonal euclidean norm:', tridi_solution.euclidean_norm)"
   ]
  },
  {
   "cell_type": "code",
   "execution_count": 12,
   "metadata": {},
   "outputs": [],
   "source": [
    "from qiskit import transpile\n",
    "\n",
    "MAX_QUBITS = 4\n",
    "a = 1\n",
    "b = -1/3\n",
    "\n",
    "i = 1\n",
    "# calculate the circuit depths for different number of qubits to compare the use\n",
    "# of resources (WARNING: This will take a while to execute)\n",
    "naive_depths = []\n",
    "tridi_depths = []\n",
    "for n_qubits in range(1, MAX_QUBITS+1):\n",
    "    matrix = diags([b, a, b],\n",
    "                   [-1, 0, 1],\n",
    "                   shape=(2**n_qubits, 2**n_qubits)).toarray()\n",
    "    vector = np.array([1] + [0]*(2**n_qubits -1))\n",
    "\n",
    "    naive_hhl_solution = HHL().solve(matrix, vector)\n",
    "    tridi_matrix = TridiagonalToeplitz(n_qubits, a, b)\n",
    "    tridi_solution = HHL().solve(tridi_matrix, vector)\n",
    "\n",
    "    naive_qc = transpile(naive_hhl_solution.state,\n",
    "                         basis_gates=['id', 'rz', 'sx', 'x', 'cx'])\n",
    "    tridi_qc = transpile(tridi_solution.state,\n",
    "                         basis_gates=['id', 'rz', 'sx', 'x', 'cx'])\n",
    "\n",
    "    naive_depths.append(naive_qc.depth())\n",
    "    tridi_depths.append(tridi_qc.depth())\n",
    "    i +=1"
   ]
  },
  {
   "cell_type": "code",
   "execution_count": 13,
   "metadata": {},
   "outputs": [
    {
     "name": "stdout",
     "output_type": "stream",
     "text": [
      "     size of the system                    2×2                    4×4                    8×8                  16×16\n",
      " quantum_solution depth                    334                   2562                  33172                 351483\n",
      "   tridi_solution depth                    565                   5107                  14756                  46552\n"
     ]
    }
   ],
   "source": [
    "sizes = [f\"{2**n_qubits}×{2**n_qubits}\"\n",
    "         for n_qubits in range(1, MAX_QUBITS+1)]\n",
    "columns = ['size of the system',\n",
    "           'quantum_solution depth',\n",
    "           'tridi_solution depth']\n",
    "data = np.array([sizes, naive_depths, tridi_depths])\n",
    "ROW_FORMAT =\"{:>23}\" * (len(columns) + 2)\n",
    "for team, row in zip(columns, data):\n",
    "    print(ROW_FORMAT.format(team, *row))"
   ]
  },
  {
   "cell_type": "code",
   "execution_count": 14,
   "metadata": {},
   "outputs": [
    {
     "name": "stdout",
     "output_type": "stream",
     "text": [
      "excess: [-231, -2545, 18416, 304931]\n"
     ]
    }
   ],
   "source": [
    "print('excess:',[naive_depths[i] - tridi_depths[i] for i in range(0, len(naive_depths))])"
   ]
  },
  {
   "cell_type": "code",
   "execution_count": 15,
   "metadata": {},
   "outputs": [],
   "source": [
    "from linear_solvers.observables import AbsoluteAverage, MatrixFunctional"
   ]
  },
  {
   "cell_type": "code",
   "execution_count": 16,
   "metadata": {},
   "outputs": [
    {
     "name": "stdout",
     "output_type": "stream",
     "text": [
      "quantum average: 0.7499999999999962\n",
      "classical average: 0.75\n",
      "quantum circuit results: (0.4999999999999952+0j)\n"
     ]
    }
   ],
   "source": [
    "NUM_QUBITS = 1\n",
    "MATRIX_SIZE = 2 ** NUM_QUBITS\n",
    "# entries of the tridiagonal Toeplitz symmetric matrix\n",
    "a = 1\n",
    "b = -1/3\n",
    "\n",
    "matrix = diags([b, a, b],\n",
    "               [-1, 0, 1],\n",
    "               shape=(MATRIX_SIZE, MATRIX_SIZE)).toarray()\n",
    "vector = np.array([1] + [0]*(MATRIX_SIZE - 1))\n",
    "tridi_matrix = TridiagonalToeplitz(1, a, b)\n",
    "\n",
    "average_solution = HHL().solve(tridi_matrix,\n",
    "                               vector,\n",
    "                               AbsoluteAverage())\n",
    "classical_average = NumPyLinearSolver(\n",
    "                        ).solve(matrix,\n",
    "                                vector / np.linalg.norm(vector),\n",
    "                                AbsoluteAverage())\n",
    "\n",
    "print('quantum average:', average_solution.observable)\n",
    "print('classical average:', classical_average.observable)\n",
    "print('quantum circuit results:', average_solution.circuit_results)"
   ]
  },
  {
   "cell_type": "code",
   "execution_count": 17,
   "metadata": {},
   "outputs": [
    {
     "name": "stdout",
     "output_type": "stream",
     "text": [
      "quantum functional: 1.8281249999999818\n",
      "classical functional: 1.828125\n",
      "quantum circuit results: [(0.6249999999999941+0j), (0.4999999999999952+0j), (0.1249999999999988+0j)]\n"
     ]
    }
   ],
   "source": [
    "observable = MatrixFunctional(1, 1 / 2)\n",
    "\n",
    "functional_solution = HHL().solve(tridi_matrix, vector, observable)\n",
    "classical_functional = NumPyLinearSolver(\n",
    "                          ).solve(matrix,\n",
    "                                  vector / np.linalg.norm(vector),\n",
    "                                  observable)\n",
    "\n",
    "print('quantum functional:', functional_solution.observable)\n",
    "print('classical functional:', classical_functional.observable)\n",
    "print('quantum circuit results:', functional_solution.circuit_results)"
   ]
  },
  {
   "cell_type": "code",
   "execution_count": 18,
   "metadata": {},
   "outputs": [
    {
     "name": "stdout",
     "output_type": "stream",
     "text": [
      "1.1858541225631387\n",
      "1.1858541225631423\n"
     ]
    }
   ],
   "source": [
    "from qiskit import Aer\n",
    "\n",
    "backend = Aer.get_backend('aer_simulator')\n",
    "hhl = HHL(1e-3, quantum_instance=backend)\n",
    "\n",
    "accurate_solution = hhl.solve(matrix, vector)\n",
    "classical_solution = NumPyLinearSolver(\n",
    "                    ).solve(matrix,\n",
    "                            vector / np.linalg.norm(vector))\n",
    "\n",
    "print(accurate_solution.euclidean_norm)\n",
    "print(classical_solution.euclidean_norm)"
   ]
  },
  {
   "cell_type": "code",
   "execution_count": 19,
   "metadata": {},
   "outputs": [
    {
     "name": "stdout",
     "output_type": "stream",
     "text": [
      "Depth: 26\n",
      "CNOTS: 10\n"
     ]
    },
    {
     "data": {
      "text/html": [
       "<pre style=\"word-wrap: normal;white-space: pre;background: #fff0;line-height: 1.1;font-family: &quot;Courier New&quot;,Courier,monospace\">         ┌───────┐┌──────────────────────┐┌────────┐┌───┐┌──────────────┐┌───┐┌─────────────┐┌─────────┐┌────────┐┌───┐┌─────────────┐┌───┐┌────────────┐┌─────────┐                                                                                                               ░ ┌─┐         \n",
       "q8078_0: ┤ Ry(0) ├┤ U(-0.66667,-π/2,π/2) ├┤ P(π/2) ├┤ X ├┤ Ry(-0.66667) ├┤ X ├┤ Ry(0.66667) ├┤ P(3π/2) ├┤ P(π/2) ├┤ X ├┤ Ry(-1.3333) ├┤ X ├┤ Ry(1.3333) ├┤ P(3π/2) ├───────────────────────────────────────────────────────────────────────────────────────────────────────────────░─┤M├─────────\n",
       "         └─┬───┬─┘└───────┬──────┬───────┘└────────┘└─┬─┘└──────────────┘└─┬─┘└─────────────┘└─────────┘└────────┘└─┬─┘└─────────────┘└─┬─┘└────────────┘└─────────┘                      ┌──────────┐     ┌───┐                                                                   ░ └╥┘┌─┐      \n",
       "q8078_1: ──┤ H ├──────────┤ P(2) ├────────────────────■────────────────────■────────────────────────────────────────┼───────────────────┼──────────────────────────────■───────────────■──┤ Rz(-π/4) ├─────┤ H ├────────■────────────────────────────────────────■─────────────────░──╫─┤M├──────\n",
       "           ├───┤          ├──────┤                                                                                  │                   │      ┌───┐     ┌──────────┐┌─┴─┐┌─────────┐┌─┴─┐└──────────┘     └───┘        │                                        │                 ░  ║ └╥┘┌─┐   \n",
       "q8078_2: ──┤ H ├──────────┤ P(4) ├──────────────────────────────────────────────────────────────────────────────────■───────────────────■──────┤ H ├─────┤ Rz(-π/4) ├┤ X ├┤ Rz(π/4) ├┤ X ├─────■────────────────────────┼────────────────────■───────────────────┼─────────────────░──╫──╫─┤M├───\n",
       "           └───┘          └──────┘                                                                                                             └───┘     └──────────┘└───┘└─────────┘└───┘   ┌─┴─┐    ┌──────────────┐┌─┴─┐┌──────────────┐┌─┴─┐┌─────────────┐┌─┴─┐┌────────────┐ ░  ║  ║ └╥┘┌─┐\n",
       "q8078_3: ────────────────────────────────────────────────────────────────────────────────────────────────────────────────────────────────────────────────────────────────────────────────────┤ X ├────┤ Ry(-0.69352) ├┤ X ├┤ Ry(-0.87728) ├┤ X ├┤ Ry(0.35368) ├┤ X ├┤ Ry(1.2171) ├─░──╫──╫──╫─┤M├\n",
       "                                                                                                                                                                                             └───┘    └──────────────┘└───┘└──────────────┘└───┘└─────────────┘└───┘└────────────┘ ░  ║  ║  ║ └╥┘\n",
       " meas: 4/═════════════════════════════════════════════════════════════════════════════════════════════════════════════════════════════════════════════════════════════════════════════════════════════════════════════════════════════════════════════════════════════════════════════╩══╩══╩══╩═\n",
       "                                                                                                                                                                                                                                                                                      0  1  2  3 </pre>"
      ],
      "text/plain": [
       "         ┌───────┐┌──────────────────────┐┌────────┐┌───┐┌──────────────┐┌───┐┌─────────────┐┌─────────┐┌────────┐┌───┐┌─────────────┐┌───┐┌────────────┐┌─────────┐                                                                                                               ░ ┌─┐         \n",
       "q8078_0: ┤ Ry(0) ├┤ U(-0.66667,-π/2,π/2) ├┤ P(π/2) ├┤ X ├┤ Ry(-0.66667) ├┤ X ├┤ Ry(0.66667) ├┤ P(3π/2) ├┤ P(π/2) ├┤ X ├┤ Ry(-1.3333) ├┤ X ├┤ Ry(1.3333) ├┤ P(3π/2) ├───────────────────────────────────────────────────────────────────────────────────────────────────────────────░─┤M├─────────\n",
       "         └─┬───┬─┘└───────┬──────┬───────┘└────────┘└─┬─┘└──────────────┘└─┬─┘└─────────────┘└─────────┘└────────┘└─┬─┘└─────────────┘└─┬─┘└────────────┘└─────────┘                      ┌──────────┐     ┌───┐                                                                   ░ └╥┘┌─┐      \n",
       "q8078_1: ──┤ H ├──────────┤ P(2) ├────────────────────■────────────────────■────────────────────────────────────────┼───────────────────┼──────────────────────────────■───────────────■──┤ Rz(-π/4) ├─────┤ H ├────────■────────────────────────────────────────■─────────────────░──╫─┤M├──────\n",
       "           ├───┤          ├──────┤                                                                                  │                   │      ┌───┐     ┌──────────┐┌─┴─┐┌─────────┐┌─┴─┐└──────────┘     └───┘        │                                        │                 ░  ║ └╥┘┌─┐   \n",
       "q8078_2: ──┤ H ├──────────┤ P(4) ├──────────────────────────────────────────────────────────────────────────────────■───────────────────■──────┤ H ├─────┤ Rz(-π/4) ├┤ X ├┤ Rz(π/4) ├┤ X ├─────■────────────────────────┼────────────────────■───────────────────┼─────────────────░──╫──╫─┤M├───\n",
       "           └───┘          └──────┘                                                                                                             └───┘     └──────────┘└───┘└─────────┘└───┘   ┌─┴─┐    ┌──────────────┐┌─┴─┐┌──────────────┐┌─┴─┐┌─────────────┐┌─┴─┐┌────────────┐ ░  ║  ║ └╥┘┌─┐\n",
       "q8078_3: ────────────────────────────────────────────────────────────────────────────────────────────────────────────────────────────────────────────────────────────────────────────────────┤ X ├────┤ Ry(-0.69352) ├┤ X ├┤ Ry(-0.87728) ├┤ X ├┤ Ry(0.35368) ├┤ X ├┤ Ry(1.2171) ├─░──╫──╫──╫─┤M├\n",
       "                                                                                                                                                                                             └───┘    └──────────────┘└───┘└──────────────┘└───┘└─────────────┘└───┘└────────────┘ ░  ║  ║  ║ └╥┘\n",
       " meas: 4/═════════════════════════════════════════════════════════════════════════════════════════════════════════════════════════════════════════════════════════════════════════════════════════════════════════════════════════════════════════════════════════════════════════════╩══╩══╩══╩═\n",
       "                                                                                                                                                                                                                                                                                      0  1  2  3 "
      ]
     },
     "execution_count": 19,
     "metadata": {},
     "output_type": "execute_result"
    }
   ],
   "source": [
    "from qiskit import QuantumRegister, QuantumCircuit\n",
    "import numpy as np\n",
    "\n",
    "t = 2  # This is not optimal; As an exercise, set this to the\n",
    "       # value that will get the best results. See section 8 for solution.\n",
    "\n",
    "NUM_QUBITS = 4  # Total number of qubits\n",
    "nb = 1  # Number of qubits representing the solution\n",
    "nl = 2  # Number of qubits representing the eigenvalues\n",
    "\n",
    "theta = 0  # Angle defining |b>\n",
    "\n",
    "a = 1  # Matrix diagonal\n",
    "b = -1/3  # Matrix off-diagonal\n",
    "\n",
    "# Initialize the quantum and classical registers\n",
    "qr = QuantumRegister(NUM_QUBITS)\n",
    "\n",
    "# Create a Quantum Circuit\n",
    "qc = QuantumCircuit(qr)\n",
    "\n",
    "qrb = qr[0:nb]\n",
    "qrl = qr[nb:nb+nl]\n",
    "qra = qr[nb+nl:nb+nl+1]\n",
    "\n",
    "# State preparation.\n",
    "qc.ry(2*theta, qrb[0])\n",
    "\n",
    "# QPE with e^{iAt}\n",
    "for qu in qrl:\n",
    "    qc.h(qu)\n",
    "\n",
    "qc.p(a*t, qrl[0])\n",
    "qc.p(a*t*2, qrl[1])\n",
    "\n",
    "qc.u(b*t, -np.pi/2, np.pi/2, qrb[0])\n",
    "\n",
    "\n",
    "# Controlled e^{iAt} on \\lambda_{1}:\n",
    "params=b*t\n",
    "\n",
    "qc.p(np.pi/2,qrb[0])\n",
    "qc.cx(qrl[0],qrb[0])\n",
    "qc.ry(params,qrb[0])\n",
    "qc.cx(qrl[0],qrb[0])\n",
    "qc.ry(-params,qrb[0])\n",
    "qc.p(3*np.pi/2,qrb[0])\n",
    "\n",
    "# Controlled e^{2iAt} on \\lambda_{2}:\n",
    "params = b*t*2\n",
    "\n",
    "qc.p(np.pi/2,qrb[0])\n",
    "qc.cx(qrl[1],qrb[0])\n",
    "qc.ry(params,qrb[0])\n",
    "qc.cx(qrl[1],qrb[0])\n",
    "qc.ry(-params,qrb[0])\n",
    "qc.p(3*np.pi/2,qrb[0])\n",
    "\n",
    "# Inverse QFT\n",
    "qc.h(qrl[1])\n",
    "qc.rz(-np.pi/4,qrl[1])\n",
    "qc.cx(qrl[0],qrl[1])\n",
    "qc.rz(np.pi/4,qrl[1])\n",
    "qc.cx(qrl[0],qrl[1])\n",
    "qc.rz(-np.pi/4,qrl[0])\n",
    "qc.h(qrl[0])\n",
    "\n",
    "# Eigenvalue rotation\n",
    "t1=(-np.pi +np.pi/3 - 2*np.arcsin(1/3))/4\n",
    "t2=(-np.pi -np.pi/3 + 2*np.arcsin(1/3))/4\n",
    "t3=(np.pi -np.pi/3 - 2*np.arcsin(1/3))/4\n",
    "t4=(np.pi +np.pi/3 + 2*np.arcsin(1/3))/4\n",
    "\n",
    "qc.cx(qrl[1],qra[0])\n",
    "qc.ry(t1,qra[0])\n",
    "qc.cx(qrl[0],qra[0])\n",
    "qc.ry(t2,qra[0])\n",
    "qc.cx(qrl[1],qra[0])\n",
    "qc.ry(t3,qra[0])\n",
    "qc.cx(qrl[0],qra[0])\n",
    "qc.ry(t4,qra[0])\n",
    "qc.measure_all()\n",
    "\n",
    "print(f\"Depth: {qc.depth()}\")\n",
    "print(f\"CNOTS: {qc.count_ops()['cx']}\")\n",
    "qc.draw(fold=-1)"
   ]
  },
  {
   "cell_type": "code",
   "execution_count": null,
   "metadata": {},
   "outputs": [],
   "source": [
    "from qiskit import IBMQ, transpile,providers, QuantumCircuit, Aer, assemble\n",
    "from qiskit.utils.mitigation import complete_meas_cal\n",
    "\n",
    "# Define your IBM Quantum Experience API token\n",
    "API_TOKEN = '21ce439dcf5c570e143eff2ea9fd49e2384d60fc4b34621638c9d11c9814bc214fbef674347dab4f397b3ac9741cf892cb13df446855bb99ece9388b5c755d12'\n",
    "\n",
    "# Get the IBMQ provider#\n",
    "# Load your IBM Quantum Experience account\n",
    "IBMQ.save_account(API_TOKEN)\n",
    "IBMQ.load_account()\n",
    "\n",
    "# Get the provider\n",
    "provider = IBMQ.get_provider(hub='ibm-q')"
   ]
  },
  {
   "cell_type": "code",
   "execution_count": 25,
   "metadata": {},
   "outputs": [],
   "source": [
    "# Select an available backend\n",
    "backend = provider.get_backend('ibmq_qasm_simulator') \n",
    "# calibrate using real hardware\n",
    "layout = [2,3,0,4]\n",
    "chip_qubits = 5\n",
    "\n",
    "# Transpiled circuit for the real hardware\n",
    "qc_qa_cx = transpile(qc, backend=backend, initial_layout=layout)"
   ]
  },
  {
   "cell_type": "code",
   "execution_count": 27,
   "metadata": {},
   "outputs": [],
   "source": [
    "meas_cals, state_labels = complete_meas_cal(qubit_list=layout,\n",
    "                                            qr=QuantumRegister(chip_qubits))\n",
    "qcs = meas_cals + [qc_qa_cx]\n",
    "\n",
    "job = backend.run(qcs, shots=10)\n",
    "\n",
    "\n",
    "# Create a job\n",
    "# job = providers.Job(backend=backend, circuits=[QuantumCircuit()])\n",
    "\n",
    "# Submit the job\n",
    "#job_manager = providers.ibmq.managed.IBMQJobManager()\n",
    "#job_set = job_manager.submit_jobs([job])"
   ]
  },
  {
   "cell_type": "code",
   "execution_count": 41,
   "metadata": {},
   "outputs": [
    {
     "data": {
      "image/png": "[encoded data removed]",
      "text/plain": [
       "<Figure size 700x500 with 1 Axes>"
      ]
     },
     "execution_count": 41,
     "metadata": {},
     "output_type": "execute_result"
    }
   ],
   "source": [
    "from qiskit.visualization import plot_histogram\n",
    "# Get the result\n",
    "result = job.result()\n",
    "counts = result.get_counts(qc)\n",
    "plot_histogram(counts)"
   ]
  },
  {
   "cell_type": "code",
   "execution_count": 38,
   "metadata": {},
   "outputs": [
    {
     "data": {
      "text/html": [
       "<h3>Version Information</h3><table><tr><th>Qiskit Software</th><th>Version</th></tr><tr><td><code>qiskit-terra</code></td><td>0.23.3</td></tr><tr><td><code>qiskit-aer</code></td><td>0.12.0</td></tr><tr><td><code>qiskit-ibmq-provider</code></td><td>0.20.2</td></tr><tr><td><code>qiskit</code></td><td>0.42.1</td></tr><tr><td><code>qiskit-optimization</code></td><td>0.5.0</td></tr><tr><th>System information</th></tr><tr><td>Python version</td><td>3.9.18</td></tr><tr><td>Python compiler</td><td>Clang 14.0.6 </td></tr><tr><td>Python build</td><td>main, Sep 11 2023 08:38:23</td></tr><tr><td>OS</td><td>Darwin</td></tr><tr><td>CPUs</td><td>4</td></tr><tr><td>Memory (Gb)</td><td>8.0</td></tr><tr><td colspan='2'>Thu Oct 26 13:32:02 2023 EDT</td></tr></table>"
      ],
      "text/plain": [
       "<IPython.core.display.HTML object>"
      ]
     },
     "metadata": {},
     "output_type": "display_data"
    }
   ],
   "source": [
    "import qiskit.tools.jupyter\n",
    "%qiskit_version_table"
   ]
  }
 ],
 "metadata": {
  "kernelspec": {
   "display_name": "Quantum_Computing_Project",
   "language": "python",
   "name": "python3"
  },
  "language_info": {
   "codemirror_mode": {
    "name": "ipython",
    "version": 3
   },
   "file_extension": ".py",
   "mimetype": "text/x-python",
   "name": "python",
   "nbconvert_exporter": "python",
   "pygments_lexer": "ipython3",
   "version": "3.9.18"
  }
 },
 "nbformat": 4,
 "nbformat_minor": 2
}
