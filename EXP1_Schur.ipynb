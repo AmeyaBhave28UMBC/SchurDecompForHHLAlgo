{
 "cells": [
  {
   "cell_type": "code",
   "execution_count": 2,
   "metadata": {},
   "outputs": [
    {
     "name": "stdout",
     "output_type": "stream",
     "text": [
      "[[ 2.65896708  1.42440458 -1.92933439]\n",
      " [ 0.         -0.32948354 -0.49063704]\n",
      " [ 0.          1.31178921 -0.32948354]]\n",
      "[[ 0.72711591 -0.60156188  0.33079564]\n",
      " [ 0.52839428  0.79801892  0.28976765]\n",
      " [ 0.43829436  0.03590414 -0.89811411]]\n"
     ]
    }
   ],
   "source": [
    "import numpy as np\n",
    "from scipy.linalg import schur,eigvals\n",
    "\n",
    "arr = np.array([[0,2,2],[0,1,2],[1,0,1]])\n",
    "\n",
    "T , Z = schur(arr)\n",
    "\n",
    "print(T)\n",
    "print(Z)"
   ]
  },
  {
   "cell_type": "code",
   "execution_count": null,
   "metadata": {},
   "outputs": [],
   "source": []
  }
 ],
 "metadata": {
  "kernelspec": {
   "display_name": "Quantum_Computing_Project",
   "language": "python",
   "name": "python3"
  },
  "language_info": {
   "codemirror_mode": {
    "name": "ipython",
    "version": 3
   },
   "file_extension": ".py",
   "mimetype": "text/x-python",
   "name": "python",
   "nbconvert_exporter": "python",
   "pygments_lexer": "ipython3",
   "version": "3.9.18"
  }
 },
 "nbformat": 4,
 "nbformat_minor": 2
}
